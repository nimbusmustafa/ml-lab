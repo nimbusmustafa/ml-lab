{
 "cells": [
  {
   "cell_type": "code",
   "execution_count": 21,
   "metadata": {},
   "outputs": [],
   "source": [
    "import pandas as pd\n",
    "import numpy as np\n",
    "import matplotlib.pyplot as plt"
   ]
  },
  {
   "cell_type": "code",
   "execution_count": 22,
   "metadata": {},
   "outputs": [],
   "source": [
    "data={\n",
    "    'Study Time':[1, 2, 3, 4, 5, 7, 8, 9, 11, 12], \n",
    "    'Score':[2, 3, 5, 6, 7, 8, 8, 9, 10, 11]\n",
    "}\n",
    "\n",
    "df=pd.DataFrame(data)\n",
    "df.to_csv('study_score.csv', index=False)"
   ]
  },
  {
   "cell_type": "code",
   "execution_count": 23,
   "metadata": {},
   "outputs": [
    {
     "name": "stdout",
     "output_type": "stream",
     "text": [
      "(10,)\n",
      "[[ 1.  1.]\n",
      " [ 1.  2.]\n",
      " [ 1.  3.]\n",
      " [ 1.  4.]\n",
      " [ 1.  5.]\n",
      " [ 1.  7.]\n",
      " [ 1.  8.]\n",
      " [ 1.  9.]\n",
      " [ 1. 11.]\n",
      " [ 1. 12.]]\n"
     ]
    }
   ],
   "source": [
    "df=pd.read_csv('study_score.csv')\n",
    "X=df['Study Time'].values\n",
    "Y=df['Score'].values\n",
    "print(X.shape)\n",
    "X_b= np.c_[np.ones(X.shape), X]\n",
    "print(X_b)"
   ]
  },
  {
   "cell_type": "code",
   "execution_count": 24,
   "metadata": {},
   "outputs": [
    {
     "data": {
      "text/html": [
       "<div>\n",
       "<style scoped>\n",
       "    .dataframe tbody tr th:only-of-type {\n",
       "        vertical-align: middle;\n",
       "    }\n",
       "\n",
       "    .dataframe tbody tr th {\n",
       "        vertical-align: top;\n",
       "    }\n",
       "\n",
       "    .dataframe thead th {\n",
       "        text-align: right;\n",
       "    }\n",
       "</style>\n",
       "<table border=\"1\" class=\"dataframe\">\n",
       "  <thead>\n",
       "    <tr style=\"text-align: right;\">\n",
       "      <th></th>\n",
       "      <th>Study Time</th>\n",
       "      <th>Score</th>\n",
       "    </tr>\n",
       "  </thead>\n",
       "  <tbody>\n",
       "    <tr>\n",
       "      <th>0</th>\n",
       "      <td>1</td>\n",
       "      <td>2</td>\n",
       "    </tr>\n",
       "    <tr>\n",
       "      <th>1</th>\n",
       "      <td>2</td>\n",
       "      <td>3</td>\n",
       "    </tr>\n",
       "    <tr>\n",
       "      <th>2</th>\n",
       "      <td>3</td>\n",
       "      <td>5</td>\n",
       "    </tr>\n",
       "    <tr>\n",
       "      <th>3</th>\n",
       "      <td>4</td>\n",
       "      <td>6</td>\n",
       "    </tr>\n",
       "    <tr>\n",
       "      <th>4</th>\n",
       "      <td>5</td>\n",
       "      <td>7</td>\n",
       "    </tr>\n",
       "    <tr>\n",
       "      <th>5</th>\n",
       "      <td>7</td>\n",
       "      <td>8</td>\n",
       "    </tr>\n",
       "    <tr>\n",
       "      <th>6</th>\n",
       "      <td>8</td>\n",
       "      <td>8</td>\n",
       "    </tr>\n",
       "    <tr>\n",
       "      <th>7</th>\n",
       "      <td>9</td>\n",
       "      <td>9</td>\n",
       "    </tr>\n",
       "    <tr>\n",
       "      <th>8</th>\n",
       "      <td>11</td>\n",
       "      <td>10</td>\n",
       "    </tr>\n",
       "    <tr>\n",
       "      <th>9</th>\n",
       "      <td>12</td>\n",
       "      <td>11</td>\n",
       "    </tr>\n",
       "  </tbody>\n",
       "</table>\n",
       "</div>"
      ],
      "text/plain": [
       "   Study Time  Score\n",
       "0           1      2\n",
       "1           2      3\n",
       "2           3      5\n",
       "3           4      6\n",
       "4           5      7\n",
       "5           7      8\n",
       "6           8      8\n",
       "7           9      9\n",
       "8          11     10\n",
       "9          12     11"
      ]
     },
     "execution_count": 24,
     "metadata": {},
     "output_type": "execute_result"
    }
   ],
   "source": [
    "df"
   ]
  },
  {
   "cell_type": "code",
   "execution_count": 25,
   "metadata": {},
   "outputs": [
    {
     "name": "stdout",
     "output_type": "stream",
     "text": [
      "Intercept (B0): 2.2500000000000075\n",
      "Slope (B1): 0.7499999999999996\n"
     ]
    }
   ],
   "source": [
    "theta_best= np.linalg.inv(X_b.T@ X_b)@X_b.T@ Y\n",
    "b0,b1=theta_best\n",
    "print(f'Intercept (B0): {b0}')\n",
    "print(f'Slope (B1): {b1}')"
   ]
  },
  {
   "cell_type": "code",
   "execution_count": 26,
   "metadata": {},
   "outputs": [
    {
     "name": "stdout",
     "output_type": "stream",
     "text": [
      "[ 3.    3.75  4.5   5.25  6.    7.5   8.25  9.   10.5  11.25]\n",
      "[ 3.    3.75  4.5   5.25  6.    7.5   8.25  9.   10.5  11.25]\n",
      "RMSE: 0.6324555320336759\n"
     ]
    }
   ],
   "source": [
    "y_pred=X_b@theta_best\n",
    "y_pred1= b1*X+b0\n",
    "print(y_pred)\n",
    "print(y_pred1)\n",
    "rmse = np.sqrt(np.mean((Y - y_pred) ** 2))\n",
    "print(f'RMSE: {rmse}')"
   ]
  },
  {
   "cell_type": "code",
   "execution_count": 27,
   "metadata": {},
   "outputs": [
    {
     "data": {
      "text/plain": [
       "[<matplotlib.lines.Line2D at 0x7faefdb3c2e0>]"
      ]
     },
     "execution_count": 27,
     "metadata": {},
     "output_type": "execute_result"
    },
    {
     "data": {
      "image/png": "[encoded data removed]",
      "text/plain": [
       "<Figure size 1000x600 with 1 Axes>"
      ]
     },
     "metadata": {},
     "output_type": "display_data"
    }
   ],
   "source": [
    "plt.figure(figsize=(10,6))\n",
    "plt.scatter(X,Y)\n",
    "plt.plot(X,y_pred)\n"
   ]
  },
  {
   "cell_type": "code",
   "execution_count": 28,
   "metadata": {},
   "outputs": [
    {
     "name": "stdout",
     "output_type": "stream",
     "text": [
      "6.2\n",
      "6.9\n",
      "97.2\n",
      "129.60000000000002\n",
      "Pedhazur Formula - Intercept (B0): 2.250000000000001\n",
      "Pedhazur Formula - Slope (B1): 0.7499999999999999\n"
     ]
    }
   ],
   "source": [
    "\n",
    "mean_X = np.mean(X)\n",
    "mean_y = np.mean(Y)\n",
    "print(mean_X)\n",
    "print(mean_y)\n",
    "print(np.sum((X - mean_X) * (Y - mean_y)))\n",
    "print(np.sum((X - mean_X) ** 2))\n",
    "B1_ped = np.sum((X - mean_X) * (Y - mean_y)) / np.sum((X - mean_X) ** 2)\n",
    "B0_ped = mean_y - B1_ped * mean_X\n",
    "print(f'Pedhazur Formula - Intercept (B0): {B0_ped}')\n",
    "print(f'Pedhazur Formula - Slope (B1): {B1_ped}')"
   ]
  },
  {
   "cell_type": "code",
   "execution_count": 29,
   "metadata": {},
   "outputs": [
    {
     "name": "stdout",
     "output_type": "stream",
     "text": [
      "0.9479843953185956\n",
      "scikit-learn - B0 (Intercept): 2.250000000000001\n",
      "scikit-learn - B1 (Slope): [0.75]\n",
      "[ 3.    3.75  4.5   5.25  6.    7.5   8.25  9.   10.5  11.25]\n",
      "0.6324555320336761\n"
     ]
    }
   ],
   "source": [
    "from sklearn.linear_model import LinearRegression\n",
    "from sklearn.metrics import mean_squared_error\n",
    "\n",
    "X = df[['Study Time']].values \n",
    "y = df['Score'].values \n",
    "model = LinearRegression()\n",
    "model.fit(X, y)\n",
    "B1 = model.coef_\n",
    "B0 = model.intercept_\n",
    "\n",
    "y_sklearn = model.predict(X)\n",
    "r_sq=model.score(X,Y)\n",
    "print(r_sq)\n",
    "rmse_sklearn = np.sqrt(mean_squared_error(y, y_sklearn))\n",
    "\n",
    "\n",
    "print(f\"scikit-learn - B0 (Intercept): {B0}\")\n",
    "print(f\"scikit-learn - B1 (Slope): {B1}\")\n",
    "print(y_sklearn)\n",
    "print(rmse_sklearn)"
   ]
  },
  {
   "cell_type": "code",
   "execution_count": 30,
   "metadata": {},
   "outputs": [
    {
     "ename": "NameError",
     "evalue": "name 'C' is not defined",
     "output_type": "error",
     "traceback": [
      "\u001b[0;31m---------------------------------------------------------------------------\u001b[0m",
      "\u001b[0;31mNameError\u001b[0m                                 Traceback (most recent call last)",
      "Cell \u001b[0;32mIn[30], line 2\u001b[0m\n\u001b[1;32m      1\u001b[0m df\u001b[38;5;241m=\u001b[39mpd\u001b[38;5;241m.\u001b[39mread_csv(\u001b[38;5;124m'\u001b[39m\u001b[38;5;124mhepatitis_csv.csv\u001b[39m\u001b[38;5;124m'\u001b[39m)\n\u001b[0;32m----> 2\u001b[0m \u001b[43mC\u001b[49m\n",
      "\u001b[0;31mNameError\u001b[0m: name 'C' is not defined"
     ]
    }
   ],
   "source": [
    "df=pd.read_csv('hepatitis_csv.csv')\n",
    "C"
   ]
  }
 ],
 "metadata": {
  "kernelspec": {
   "display_name": "Python 3",
   "language": "python",
   "name": "python3"
  },
  "language_info": {
   "codemirror_mode": {
    "name": "ipython",
    "version": 3
   },
   "file_extension": ".py",
   "mimetype": "text/x-python",
   "name": "python",
   "nbconvert_exporter": "python",
   "pygments_lexer": "ipython3",
   "version": "3.8.10"
  }
 },
 "nbformat": 4,
 "nbformat_minor": 2
}

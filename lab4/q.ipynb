{
 "cells": [
  {
   "cell_type": "code",
   "execution_count": 1,
   "metadata": {},
   "outputs": [],
   "source": [
    "import pandas as pd\n",
    "\n",
    "data = {\n",
    "    'Study Time': [50, 50, 50, 70, 70, 70, 80, 80, 80, 90, 90, 90, 100, 100, 100],\n",
    "    'Score': [3.3, 2.8, 2.9, 2.3, 2.6, 2.1, 2.5, 2.9, 2.4, 3.0, 3.1, 2.8, 3.3, 3.5, 3.0]\n",
    "}\n",
    "\n",
    "df = pd.DataFrame(data)\n",
    "df.to_csv('Score_data.csv', index=False)"
   ]
  },
  {
   "cell_type": "code",
   "execution_count": 13,
   "metadata": {},
   "outputs": [
    {
     "name": "stdout",
     "output_type": "stream",
     "text": [
      "Sums saved to sums_output_extended.csv\n"
     ]
    }
   ],
   "source": [
    "import numpy as np\n",
    "import pandas as pd\n",
    "\n",
    "def calculate_sums_extended(data_file, output_file):\n",
    "    df = pd.read_csv(data_file)\n",
    "    x = df['Study Time'].values\n",
    "    y = df['Score'].values\n",
    "    \n",
    "    sum_x = np.sum(x)\n",
    "    sum_y = np.sum(y)\n",
    "    sum_xy = np.sum(x * y)\n",
    "    sum_x2 = np.sum(x**2)\n",
    "    sum_x3 = np.sum(x**3)\n",
    "    sum_x4 = np.sum(x**4)\n",
    "    sum_x2y = np.sum(y * x**2)\n",
    "    \n",
    "    sums_df = pd.DataFrame({\n",
    "        'Sum_x': [sum_x],\n",
    "        'Sum_y': [sum_y],\n",
    "        'Sum_xy': [sum_xy],\n",
    "        'Sum_x2': [sum_x2],\n",
    "        'Sum_x3': [sum_x3],\n",
    "        'Sum_x4': [sum_x4],\n",
    "        'Sum_x2y': [sum_x2y]\n",
    "    })\n",
    "    \n",
    "    sums_df.to_csv(output_file, index=False)\n",
    "    \n",
    "    print(f\"Sums saved to {output_file}\")\n",
    "\n",
    "# Example usage\n",
    "calculate_sums_extended('study_score.csv', 'sums_output_extended.csv')\n"
   ]
  },
  {
   "cell_type": "code",
   "execution_count": 14,
   "metadata": {},
   "outputs": [
    {
     "name": "stdout",
     "output_type": "stream",
     "text": [
      "Linear fit: y = 0.7500x + 2.2500\n",
      "Quadratic fit: y = -0.0426x^2 + 1.3026x + 1.0135\n"
     ]
    },
    {
     "data": {
      "text/plain": [
       "(0.7499999999999996,\n",
       " 2.2500000000000075,\n",
       " array([ 1.01347298,  1.3025915 , -0.04259806]))"
      ]
     },
     "execution_count": 14,
     "metadata": {},
     "output_type": "execute_result"
    }
   ],
   "source": [
    "import numpy as np\n",
    "import pandas as pd\n",
    "\n",
    "def fit_regression(data_file):\n",
    "    df = pd.read_csv(data_file)\n",
    "    x = df['Study Time'].values\n",
    "    y = df['Score'].values\n",
    "    \n",
    "    A_linear = np.c_[np.ones(len(x)), x]  \n",
    "    theta_linear = np.linalg.inv(A_linear.T @ A_linear) @ A_linear.T @ y\n",
    "    c_linear, m_linear = theta_linear\n",
    "    \n",
    "    A_quad = np.c_[ np.ones(len(x)),x,x**2]  \n",
    "    theta_quad = np.linalg.inv(A_quad.T @ A_quad) @ (A_quad.T @ y)\n",
    "    \n",
    "    print(f\"Linear fit: y = {m_linear:.4f}x + {c_linear:.4f}\")\n",
    "    print(f\"Quadratic fit: y = {theta_quad[2]:.4f}x^2 + {theta_quad[1]:.4f}x + {theta_quad[0]:.4f}\")\n",
    "    \n",
    "    return m_linear, c_linear, theta_quad\n",
    "\n",
    "fit_regression('study_score.csv')\n"
   ]
  },
  {
   "cell_type": "code",
   "execution_count": 26,
   "metadata": {},
   "outputs": [
    {
     "name": "stdout",
     "output_type": "stream",
     "text": [
      "Fitted coefficients: [-8.8817842e-15  1.0000000e+00  1.0000000e+00]\n"
     ]
    }
   ],
   "source": [
    "\n",
    "import numpy as np\n",
    "import pandas as pd\n",
    "\n",
    "def multiple_linear_regression(csv_file):\n",
    "    df = pd.read_csv(csv_file)\n",
    "    y = df['Score'].values\n",
    "    X1 = df['Study Time'].values\n",
    "    X2 = df['Timepasss'].values\n",
    "\n",
    "\n",
    "    X = np.c_[(np.ones(X1.shape[0]), X1,X2)] \n",
    "\n",
    "    X_transpose = X.T\n",
    "    coeffs = np.linalg.inv(X_transpose @ X) @ X_transpose @ y\n",
    "\n",
    "    return coeffs\n",
    "\n",
    "coefficients = multiple_linear_regression('study_score.csv')\n",
    "print(\"Fitted coefficients:\", coefficients)"
   ]
  },
  {
   "cell_type": "code",
   "execution_count": null,
   "metadata": {},
   "outputs": [],
   "source": []
  }
 ],
 "metadata": {
  "kernelspec": {
   "display_name": "Python 3",
   "language": "python",
   "name": "python3"
  },
  "language_info": {
   "codemirror_mode": {
    "name": "ipython",
    "version": 3
   },
   "file_extension": ".py",
   "mimetype": "text/x-python",
   "name": "python",
   "nbconvert_exporter": "python",
   "pygments_lexer": "ipython3",
   "version": "3.8.10"
  }
 },
 "nbformat": 4,
 "nbformat_minor": 2
}

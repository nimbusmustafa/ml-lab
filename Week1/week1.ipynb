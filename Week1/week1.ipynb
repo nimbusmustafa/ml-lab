{
 "cells": [
  {
   "cell_type": "code",
   "execution_count": 18,
   "id": "bfc6a4ef",
   "metadata": {},
   "outputs": [],
   "source": [
    "import numpy as np\n",
    "import pandas\n",
    "import scipy\n",
    "import matplotlib\n",
    "import seaborn\n",
    "import sklearn"
   ]
  },
  {
   "cell_type": "code",
   "execution_count": 6,
   "id": "fd6cb69f",
   "metadata": {},
   "outputs": [
    {
     "name": "stdout",
     "output_type": "stream",
     "text": [
      "fr\n"
     ]
    }
   ],
   "source": [
    "print(\"fr\")"
   ]
  },
  {
   "cell_type": "code",
   "execution_count": 5,
   "id": "8f91a8c2",
   "metadata": {},
   "outputs": [
    {
     "name": "stdout",
     "output_type": "stream",
     "text": [
      "['hello', ' my', ' name', ' is', ' tom', ' marvolo', ' riddle']\n",
      "['yeh ', 'jo ', 'machal ', 'machalke ', 'gaaa', ' raha ', 'hai', ' sang', ' nayi ', 'si ', 'dhun']\n"
     ]
    }
   ],
   "source": [
    "import csv\n",
    "with open(\"week1.csv\",'rt') as f:\n",
    "    data = csv.reader(f)\n",
    "    for row in data:\n",
    "        print(row)"
   ]
  },
  {
   "cell_type": "code",
   "execution_count": 9,
   "id": "6ea477c1",
   "metadata": {},
   "outputs": [
    {
     "name": "stdout",
     "output_type": "stream",
     "text": [
      "yeh \n",
      "teri\n"
     ]
    }
   ],
   "source": [
    "reader=csv.DictReader(open('week1.csv','rt'))\n",
    "for row in reader:\n",
    "    print(row['hello'])"
   ]
  },
  {
   "cell_type": "code",
   "execution_count": 15,
   "id": "e21f1152",
   "metadata": {},
   "outputs": [],
   "source": [
    "with open('week1.csv','a') as file:\n",
    "    writer=csv.writer(file,delimiter=',',quotechar=\" \",quoting=csv.QUOTE_MINIMAL)\n",
    "    writer.writerow(('tum','se','hi','din','hota','hai'))"
   ]
  },
  {
   "cell_type": "code",
   "execution_count": 23,
   "id": "7b7c2b9d",
   "metadata": {},
   "outputs": [
    {
     "name": "stdout",
     "output_type": "stream",
     "text": [
      "(1, 9)\n",
      "[[0 1 2]\n",
      " [3 4 5]\n",
      " [6 7 8]]\n"
     ]
    }
   ],
   "source": [
    "a = np.array([0, 1, 2, 3, 4, 5, 6, 7, 8])\n",
    "b = a.reshape(3,3)\n",
    "print(b)"
   ]
  },
  {
   "cell_type": "code",
   "execution_count": 26,
   "id": "3489fa3d",
   "metadata": {},
   "outputs": [
    {
     "name": "stdout",
     "output_type": "stream",
     "text": [
      "[ 0 -1  2 -1  4 -1  6 -1  8 -1]\n"
     ]
    }
   ],
   "source": [
    "arr= np.array([0, 1, 2, 3, 4, 5, 6, 7, 8, 9])\n",
    "n=arr.size\n",
    "for i in range(n):\n",
    "    if i%2 !=0:\n",
    "     arr[i]=-1\n",
    "\n",
    "print(arr)     "
   ]
  },
  {
   "cell_type": "code",
   "execution_count": 38,
   "id": "c56d8e58",
   "metadata": {},
   "outputs": [
    {
     "name": "stdout",
     "output_type": "stream",
     "text": [
      "[1 2 4 5 6 7 8 9]\n",
      "[0]\n"
     ]
    }
   ],
   "source": [
    "import numpy as np\n",
    "\n",
    "x = np.array([21, 64, 86, 22, 74, 55, 81, 79, 90, 89]) \n",
    "y = np.array([21, 7, 3, 45, 10, 29, 55, 4, 37, 18])\n",
    "n = x.size\n",
    "\n",
    "arr1 = []\n",
    "arr2 = []\n",
    "\n",
    "for i in range(n):\n",
    "    if x[i] > y[i]:\n",
    "        arr1.append(i)\n",
    "    elif x[i]==y[i]:\n",
    "        arr2.append(i)\n",
    "\n",
    "arr1 = np.array(arr1)\n",
    "arr2 = np.array(arr2)\n",
    "\n",
    "print(arr1)\n",
    "print(arr2)\n"
   ]
  },
  {
   "cell_type": "code",
   "execution_count": 43,
   "id": "10d185cf",
   "metadata": {},
   "outputs": [
    {
     "name": "stdout",
     "output_type": "stream",
     "text": [
      "(array([1, 2, 4, 5, 6, 7, 8, 9]),)\n",
      "(array([0]),)\n"
     ]
    }
   ],
   "source": [
    "x = np.array([21, 64, 86, 22, 74, 55, 81, 79, 90, 89]) \n",
    "y = np.array([21, 7, 3, 45, 10, 29, 55, 4, 37, 18])\n",
    "print(np.where(x > y))\n",
    "print(np.where(x == y))"
   ]
  },
  {
   "cell_type": "code",
   "execution_count": 42,
   "id": "3839fbeb",
   "metadata": {},
   "outputs": [
    {
     "name": "stdout",
     "output_type": "stream",
     "text": [
      "[[ 0  1  2  3  4  5  6  7  8  9 10 11 12 13 14 15 16 17 18 19]\n",
      " [20 21 22 23 24 25 26 27 28 29 30 31 32 33 34 35 36 37 38 39]\n",
      " [40 41 42 43 44 45 46 47 48 49 50 51 52 53 54 55 56 57 58 59]\n",
      " [60 61 62 63 64 65 66 67 68 69 70 71 72 73 74 75 76 77 78 79]\n",
      " [80 81 82 83 84 85 86 87 88 89 90 91 92 93 94 95 96 97 98 99]]\n"
     ]
    },
    {
     "data": {
      "text/plain": [
       "array([[ 0,  1,  2,  3],\n",
       "       [20, 21, 22, 23],\n",
       "       [40, 41, 42, 43],\n",
       "       [60, 61, 62, 63],\n",
       "       [80, 81, 82, 83]])"
      ]
     },
     "execution_count": 42,
     "metadata": {},
     "output_type": "execute_result"
    }
   ],
   "source": [
    "arr4= np.arange(100).reshape(5,-1)\n",
    "print(arr4)\n",
    "arr4[:,:4]\n"
   ]
  }
 ],
 "metadata": {
  "kernelspec": {
   "display_name": "Python 3 (ipykernel)",
   "language": "python",
   "name": "python3"
  },
  "language_info": {
   "codemirror_mode": {
    "name": "ipython",
    "version": 3
   },
   "file_extension": ".py",
   "mimetype": "text/x-python",
   "name": "python",
   "nbconvert_exporter": "python",
   "pygments_lexer": "ipython3",
   "version": "3.12.3"
  }
 },
 "nbformat": 4,
 "nbformat_minor": 5
}
